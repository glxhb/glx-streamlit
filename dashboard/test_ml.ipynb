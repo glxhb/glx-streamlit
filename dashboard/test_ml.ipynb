{
 "cells": [
  {
   "cell_type": "code",
   "execution_count": 5,
   "id": "b37af079-3754-4104-98ef-3ad087ea52fe",
   "metadata": {},
   "outputs": [],
   "source": [
    "import sys\n",
    "sys.path.append('../')\n",
    "\n",
    "from src import db\n",
    "from src.dash import prep as vizprep\n",
    "\n",
    "import pandas as pd\n"
   ]
  },
  {
   "cell_type": "code",
   "execution_count": 6,
   "id": "3fe873e6-b1c4-4598-a206-21acfb1c19d4",
   "metadata": {},
   "outputs": [],
   "source": [
    "# Double\n",
    "results_d = db.from_db(f't2dm/ML/data/double/results.csv')\n",
    "results_outer = db.from_db(f't2dm/ML/data/double/results_outer.csv')\n",
    "results_outer_fs = db.from_db(f't2dm/ML/data/double/results_outer_fs.csv')\n",
    "sfs_avg = db.from_db(f't2dm/ML/data/data/double/sfs_avg.csv')"
   ]
  },
  {
   "cell_type": "code",
   "execution_count": 7,
   "id": "38c61f15-26d4-4c09-aaa4-cf95d7211253",
   "metadata": {},
   "outputs": [
    {
     "data": {
      "text/html": [
       "<div>\n",
       "<style scoped>\n",
       "    .dataframe tbody tr th:only-of-type {\n",
       "        vertical-align: middle;\n",
       "    }\n",
       "\n",
       "    .dataframe tbody tr th {\n",
       "        vertical-align: top;\n",
       "    }\n",
       "\n",
       "    .dataframe thead th {\n",
       "        text-align: right;\n",
       "    }\n",
       "</style>\n",
       "<table border=\"1\" class=\"dataframe\">\n",
       "  <thead>\n",
       "    <tr style=\"text-align: right;\">\n",
       "      <th></th>\n",
       "      <th>Accuracy</th>\n",
       "      <th>ROC_AUC</th>\n",
       "      <th>Sensitivity</th>\n",
       "      <th>Specificity</th>\n",
       "      <th>f1</th>\n",
       "      <th>model</th>\n",
       "    </tr>\n",
       "  </thead>\n",
       "  <tbody>\n",
       "    <tr>\n",
       "      <th>4</th>\n",
       "      <td>0.812636</td>\n",
       "      <td>0.82716</td>\n",
       "      <td>0.921569</td>\n",
       "      <td>0.703704</td>\n",
       "      <td>0.886792</td>\n",
       "      <td>RF</td>\n",
       "    </tr>\n",
       "  </tbody>\n",
       "</table>\n",
       "</div>"
      ],
      "text/plain": [
       "   Accuracy  ROC_AUC  Sensitivity  Specificity        f1 model\n",
       "4  0.812636  0.82716     0.921569     0.703704  0.886792    RF"
      ]
     },
     "execution_count": 7,
     "metadata": {},
     "output_type": "execute_result"
    }
   ],
   "source": [
    "results_outer_tmp = db.from_db(f't2dm/ML/data/double/results_outer.csv')\n",
    "results_all = results_outer_tmp[(results_outer_tmp[\"iteration\"] == 'baseline')]\n",
    "\n",
    "\n",
    "top_scores_df = vizprep.scores(results_all)\n",
    "top_score = top_scores_df['Accuracy'].max()\n",
    "top_scores_df[top_scores_df['Accuracy'] == top_score]"
   ]
  },
  {
   "cell_type": "code",
   "execution_count": null,
   "id": "b16162ea-d1c3-44e8-8f88-78ad1178b648",
   "metadata": {},
   "outputs": [],
   "source": []
  },
  {
   "cell_type": "code",
   "execution_count": 11,
   "id": "dff42816-784d-4ce7-9a53-d2517ed14611",
   "metadata": {},
   "outputs": [],
   "source": [
    "scalers = ['raw', 'log', 'minMax']\n",
    "sfs_dirs = ['forward', 'backwards']"
   ]
  },
  {
   "cell_type": "code",
   "execution_count": 15,
   "id": "07951e58-92aa-41df-8de0-7a524b7802b9",
   "metadata": {},
   "outputs": [],
   "source": [
    "    df_tmp = results_all[(results_all[\"scaler\"] == 'raw') & (results_all[\"sfs_dir\"] == 'forward')]\n",
    "    top_scores_df = vizprep.scores(df_tmp)"
   ]
  },
  {
   "cell_type": "code",
   "execution_count": 16,
   "id": "0eb0dd20-7585-4c4c-ac32-d92732fe13da",
   "metadata": {},
   "outputs": [
    {
     "data": {
      "text/html": [
       "<div>\n",
       "<style scoped>\n",
       "    .dataframe tbody tr th:only-of-type {\n",
       "        vertical-align: middle;\n",
       "    }\n",
       "\n",
       "    .dataframe tbody tr th {\n",
       "        vertical-align: top;\n",
       "    }\n",
       "\n",
       "    .dataframe thead th {\n",
       "        text-align: right;\n",
       "    }\n",
       "</style>\n",
       "<table border=\"1\" class=\"dataframe\">\n",
       "  <thead>\n",
       "    <tr style=\"text-align: right;\">\n",
       "      <th></th>\n",
       "      <th>Accuracy</th>\n",
       "      <th>ROC_AUC</th>\n",
       "      <th>Sensitivity</th>\n",
       "      <th>Specificity</th>\n",
       "      <th>f1</th>\n",
       "      <th>model</th>\n",
       "    </tr>\n",
       "  </thead>\n",
       "  <tbody>\n",
       "    <tr>\n",
       "      <th>0</th>\n",
       "      <td>0.774510</td>\n",
       "      <td>0.911765</td>\n",
       "      <td>0.882353</td>\n",
       "      <td>0.666667</td>\n",
       "      <td>0.857143</td>\n",
       "      <td>GB</td>\n",
       "    </tr>\n",
       "    <tr>\n",
       "      <th>1</th>\n",
       "      <td>0.627451</td>\n",
       "      <td>0.627451</td>\n",
       "      <td>0.588235</td>\n",
       "      <td>0.666667</td>\n",
       "      <td>0.666667</td>\n",
       "      <td>LDA</td>\n",
       "    </tr>\n",
       "    <tr>\n",
       "      <th>2</th>\n",
       "      <td>0.885621</td>\n",
       "      <td>0.941176</td>\n",
       "      <td>0.882353</td>\n",
       "      <td>0.888889</td>\n",
       "      <td>0.909091</td>\n",
       "      <td>LR</td>\n",
       "    </tr>\n",
       "    <tr>\n",
       "      <th>3</th>\n",
       "      <td>0.692810</td>\n",
       "      <td>0.705882</td>\n",
       "      <td>0.941176</td>\n",
       "      <td>0.444444</td>\n",
       "      <td>0.842105</td>\n",
       "      <td>MLP</td>\n",
       "    </tr>\n",
       "    <tr>\n",
       "      <th>4</th>\n",
       "      <td>0.803922</td>\n",
       "      <td>0.823529</td>\n",
       "      <td>0.941176</td>\n",
       "      <td>0.666667</td>\n",
       "      <td>0.888889</td>\n",
       "      <td>RF</td>\n",
       "    </tr>\n",
       "    <tr>\n",
       "      <th>5</th>\n",
       "      <td>0.663399</td>\n",
       "      <td>0.771242</td>\n",
       "      <td>0.882353</td>\n",
       "      <td>0.444444</td>\n",
       "      <td>0.810811</td>\n",
       "      <td>SVC</td>\n",
       "    </tr>\n",
       "    <tr>\n",
       "      <th>6</th>\n",
       "      <td>0.500000</td>\n",
       "      <td>0.473856</td>\n",
       "      <td>1.000000</td>\n",
       "      <td>0.000000</td>\n",
       "      <td>0.790698</td>\n",
       "      <td>dummy</td>\n",
       "    </tr>\n",
       "  </tbody>\n",
       "</table>\n",
       "</div>"
      ],
      "text/plain": [
       "   Accuracy   ROC_AUC  Sensitivity  Specificity        f1  model\n",
       "0  0.774510  0.911765     0.882353     0.666667  0.857143     GB\n",
       "1  0.627451  0.627451     0.588235     0.666667  0.666667    LDA\n",
       "2  0.885621  0.941176     0.882353     0.888889  0.909091     LR\n",
       "3  0.692810  0.705882     0.941176     0.444444  0.842105    MLP\n",
       "4  0.803922  0.823529     0.941176     0.666667  0.888889     RF\n",
       "5  0.663399  0.771242     0.882353     0.444444  0.810811    SVC\n",
       "6  0.500000  0.473856     1.000000     0.000000  0.790698  dummy"
      ]
     },
     "execution_count": 16,
     "metadata": {},
     "output_type": "execute_result"
    }
   ],
   "source": [
    "top_scores_df"
   ]
  },
  {
   "cell_type": "code",
   "execution_count": 19,
   "id": "698a51bb-dd90-4cf8-a52f-dda8c24f32b8",
   "metadata": {},
   "outputs": [],
   "source": []
  },
  {
   "cell_type": "code",
   "execution_count": 21,
   "id": "141e12d9-20ba-4628-93dc-1148010d2127",
   "metadata": {},
   "outputs": [
    {
     "data": {
      "text/html": [
       "<div>\n",
       "<style scoped>\n",
       "    .dataframe tbody tr th:only-of-type {\n",
       "        vertical-align: middle;\n",
       "    }\n",
       "\n",
       "    .dataframe tbody tr th {\n",
       "        vertical-align: top;\n",
       "    }\n",
       "\n",
       "    .dataframe thead th {\n",
       "        text-align: right;\n",
       "    }\n",
       "</style>\n",
       "<table border=\"1\" class=\"dataframe\">\n",
       "  <thead>\n",
       "    <tr style=\"text-align: right;\">\n",
       "      <th></th>\n",
       "      <th>Accuracy</th>\n",
       "      <th>ROC_AUC</th>\n",
       "      <th>Sensitivity</th>\n",
       "      <th>Specificity</th>\n",
       "      <th>f1</th>\n",
       "      <th>model</th>\n",
       "    </tr>\n",
       "  </thead>\n",
       "  <tbody>\n",
       "    <tr>\n",
       "      <th>2</th>\n",
       "      <td>0.885621</td>\n",
       "      <td>0.941176</td>\n",
       "      <td>0.882353</td>\n",
       "      <td>0.888889</td>\n",
       "      <td>0.909091</td>\n",
       "      <td>LR</td>\n",
       "    </tr>\n",
       "  </tbody>\n",
       "</table>\n",
       "</div>"
      ],
      "text/plain": [
       "   Accuracy   ROC_AUC  Sensitivity  Specificity        f1 model\n",
       "2  0.885621  0.941176     0.882353     0.888889  0.909091    LR"
      ]
     },
     "execution_count": 21,
     "metadata": {},
     "output_type": "execute_result"
    }
   ],
   "source": []
  },
  {
   "cell_type": "code",
   "execution_count": null,
   "id": "18cc4f6a-a8f1-4f12-baa8-35d1ecd7b28c",
   "metadata": {},
   "outputs": [],
   "source": []
  }
 ],
 "metadata": {
  "kernelspec": {
   "display_name": "Python 3",
   "language": "python",
   "name": "orchest-kernel-9595292f-d913-4807-963d-069da6d40049"
  },
  "language_info": {
   "codemirror_mode": {
    "name": "ipython",
    "version": 3
   },
   "file_extension": ".py",
   "mimetype": "text/x-python",
   "name": "python",
   "nbconvert_exporter": "python",
   "pygments_lexer": "ipython3",
   "version": "3.7.6"
  }
 },
 "nbformat": 4,
 "nbformat_minor": 5
}
